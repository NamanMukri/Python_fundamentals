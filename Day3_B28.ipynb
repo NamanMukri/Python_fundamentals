{
 "cells": [
  {
   "cell_type": "code",
   "execution_count": 2,
   "metadata": {},
   "outputs": [
    {
     "name": "stdout",
     "output_type": "stream",
     "text": [
      "Naman Mukri\n"
     ]
    }
   ],
   "source": [
    "#title()\n",
    "name='naman mukri'\n",
    "print(name.title())"
   ]
  },
  {
   "cell_type": "code",
   "execution_count": 3,
   "metadata": {},
   "outputs": [
    {
     "name": "stdout",
     "output_type": "stream",
     "text": [
      "WINGS OF FIRE\n"
     ]
    }
   ],
   "source": [
    "#upper()\n",
    "book_name=\"wings of fire\"\n",
    "print(book_name.upper())"
   ]
  },
  {
   "cell_type": "code",
   "execution_count": 4,
   "metadata": {},
   "outputs": [
    {
     "name": "stdout",
     "output_type": "stream",
     "text": [
      "mukrinaman@gmail.com\n"
     ]
    }
   ],
   "source": [
    "#lower()\n",
    "email='MukriNaman@Gmail.Com'\n",
    "print(email.lower())"
   ]
  },
  {
   "cell_type": "code",
   "execution_count": 6,
   "metadata": {},
   "outputs": [
    {
     "name": "stdout",
     "output_type": "stream",
     "text": [
      "This is to Certify that Pankaj Singh Seat no. EA1023 has successfully completed Pyhton basic course with 82 %.\n"
     ]
    }
   ],
   "source": [
    "#f Str\n",
    "name='pankaj singh'\n",
    "seat_No=\"EA1023\"\n",
    "percentile='82'\n",
    "print(f\"This is to Certify that {name.title()} Seat no. {seat_No} has successfully completed Pyhton basic course with {percentile} %.\")"
   ]
  },
  {
   "cell_type": "code",
   "execution_count": null,
   "metadata": {},
   "outputs": [],
   "source": []
  }
 ],
 "metadata": {
  "kernelspec": {
   "display_name": "Python 3",
   "language": "python",
   "name": "python3"
  },
  "language_info": {
   "codemirror_mode": {
    "name": "ipython",
    "version": 3
   },
   "file_extension": ".py",
   "mimetype": "text/x-python",
   "name": "python",
   "nbconvert_exporter": "python",
   "pygments_lexer": "ipython3",
   "version": "3.8.3"
  }
 },
 "nbformat": 4,
 "nbformat_minor": 4
}
