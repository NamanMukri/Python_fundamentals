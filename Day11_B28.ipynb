{
 "cells": [
  {
   "cell_type": "code",
   "execution_count": 1,
   "metadata": {},
   "outputs": [],
   "source": [
    "team={\n",
    "    'rahul':'maharashtra',\n",
    "    'kalpesh':'gujarat',\n",
    "    'rajni':'andhrapradesh',\n",
    "    'vaishnav':'karnatak',\n",
    "    'irfan':'kerala',\n",
    "    'raju':'uttarpradesh'\n",
    "    \n",
    "}"
   ]
  },
  {
   "cell_type": "code",
   "execution_count": 2,
   "metadata": {},
   "outputs": [
    {
     "name": "stdout",
     "output_type": "stream",
     "text": [
      "{'rahul': 'maharashtra', 'kalpesh': 'gujarat', 'rajni': 'andhrapradesh', 'vaishnav': 'karnatak', 'irfan': 'kerala', 'raju': 'uttarpradesh'}\n"
     ]
    }
   ],
   "source": [
    "print(team)"
   ]
  },
  {
   "cell_type": "code",
   "execution_count": 3,
   "metadata": {},
   "outputs": [
    {
     "data": {
      "text/plain": [
       "dict"
      ]
     },
     "execution_count": 3,
     "metadata": {},
     "output_type": "execute_result"
    }
   ],
   "source": [
    "type(team)"
   ]
  },
  {
   "cell_type": "code",
   "execution_count": null,
   "metadata": {},
   "outputs": [],
   "source": [
    "#to see irfan is from which state?"
   ]
  },
  {
   "cell_type": "code",
   "execution_count": 4,
   "metadata": {},
   "outputs": [
    {
     "name": "stdout",
     "output_type": "stream",
     "text": [
      "Irfan is from Kerala.\n"
     ]
    }
   ],
   "source": [
    "state=team['irfan'].title()\n",
    "print(f\"Irfan is from {state}.\")"
   ]
  },
  {
   "cell_type": "code",
   "execution_count": null,
   "metadata": {},
   "outputs": [],
   "source": [
    "# implementation of for loop"
   ]
  },
  {
   "cell_type": "code",
   "execution_count": 5,
   "metadata": {},
   "outputs": [
    {
     "name": "stdout",
     "output_type": "stream",
     "text": [
      "{'rahul': 'maharashtra', 'kalpesh': 'gujarat', 'rajni': 'andhrapradesh', 'vaishnav': 'karnatak', 'irfan': 'kerala', 'raju': 'uttarpradesh'}\n"
     ]
    }
   ],
   "source": [
    "print(team)"
   ]
  },
  {
   "cell_type": "code",
   "execution_count": 8,
   "metadata": {},
   "outputs": [
    {
     "name": "stdout",
     "output_type": "stream",
     "text": [
      "\n",
      "Name: Rahul\n",
      "State: Maharashtra\n",
      "\n",
      "Name: Kalpesh\n",
      "State: Gujarat\n",
      "\n",
      "Name: Rajni\n",
      "State: Andhrapradesh\n",
      "\n",
      "Name: Vaishnav\n",
      "State: Karnatak\n",
      "\n",
      "Name: Irfan\n",
      "State: Kerala\n",
      "\n",
      "Name: Raju\n",
      "State: Uttarpradesh\n"
     ]
    }
   ],
   "source": [
    "for name,place in team.items():\n",
    "    print(f\"\\nName: {name.title()}\")\n",
    "    print(f\"State: {place.title()}\")"
   ]
  },
  {
   "cell_type": "code",
   "execution_count": null,
   "metadata": {},
   "outputs": [],
   "source": []
  },
  {
   "cell_type": "code",
   "execution_count": 10,
   "metadata": {},
   "outputs": [
    {
     "name": "stdout",
     "output_type": "stream",
     "text": [
      "{'rahul': 'maharashtra', 'kalpesh': 'gujarat', 'rajni': 'andhrapradesh', 'vaishnav': 'karnatak', 'irfan': 'kerala', 'raju': 'uttarpradesh'}\n"
     ]
    }
   ],
   "source": [
    "print(team)"
   ]
  },
  {
   "cell_type": "code",
   "execution_count": 14,
   "metadata": {},
   "outputs": [
    {
     "name": "stdout",
     "output_type": "stream",
     "text": [
      "Rahul has come all the way from Maharashtra.\n",
      "\n",
      "Kalpesh has come all the way from Gujarat.\n",
      "\n",
      "Rajni has come all the way from Andhrapradesh.\n",
      "\n",
      "Vaishnav has come all the way from Karnatak.\n",
      "\n",
      "Irfan has come all the way from Kerala.\n",
      "\n",
      "Raju has come all the way from Uttarpradesh.\n",
      "\n"
     ]
    }
   ],
   "source": [
    "for name,place in team.items():\n",
    "    print(f\"{name.title()} has come all the way from {place.title()}.\\n\")"
   ]
  },
  {
   "cell_type": "code",
   "execution_count": null,
   "metadata": {},
   "outputs": [],
   "source": [
    "#to print only keys"
   ]
  },
  {
   "cell_type": "code",
   "execution_count": 16,
   "metadata": {},
   "outputs": [
    {
     "name": "stdout",
     "output_type": "stream",
     "text": [
      "RAHUL\n",
      "KALPESH\n",
      "RAJNI\n",
      "VAISHNAV\n",
      "IRFAN\n",
      "RAJU\n"
     ]
    }
   ],
   "source": [
    "for name in team.keys():\n",
    "    print(name.upper())"
   ]
  },
  {
   "cell_type": "code",
   "execution_count": 18,
   "metadata": {},
   "outputs": [
    {
     "name": "stdout",
     "output_type": "stream",
     "text": [
      "MAHARASHTRA\n",
      "GUJARAT\n",
      "ANDHRAPRADESH\n",
      "KARNATAK\n",
      "KERALA\n",
      "UTTARPRADESH\n"
     ]
    }
   ],
   "source": [
    "for place in team.values():\n",
    "    print(place.upper())"
   ]
  },
  {
   "cell_type": "code",
   "execution_count": null,
   "metadata": {},
   "outputs": [],
   "source": []
  },
  {
   "cell_type": "code",
   "execution_count": null,
   "metadata": {},
   "outputs": [],
   "source": []
  },
  {
   "cell_type": "code",
   "execution_count": null,
   "metadata": {},
   "outputs": [],
   "source": []
  }
 ],
 "metadata": {
  "kernelspec": {
   "display_name": "Python 3",
   "language": "python",
   "name": "python3"
  },
  "language_info": {
   "codemirror_mode": {
    "name": "ipython",
    "version": 3
   },
   "file_extension": ".py",
   "mimetype": "text/x-python",
   "name": "python",
   "nbconvert_exporter": "python",
   "pygments_lexer": "ipython3",
   "version": "3.8.3"
  }
 },
 "nbformat": 4,
 "nbformat_minor": 4
}
