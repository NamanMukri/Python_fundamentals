{
 "cells": [
  {
   "cell_type": "code",
   "execution_count": 1,
   "metadata": {},
   "outputs": [],
   "source": [
    "team = ['vinod', 'shreyas', 'rahul', 'vijay', 'mahesh', 'arjun', 'virat']"
   ]
  },
  {
   "cell_type": "markdown",
   "metadata": {},
   "source": [
    "team.append('sanket')"
   ]
  },
  {
   "cell_type": "code",
   "execution_count": 2,
   "metadata": {},
   "outputs": [
    {
     "name": "stdout",
     "output_type": "stream",
     "text": [
      "['vinod', 'shreyas', 'rahul', 'vijay', 'mahesh', 'arjun', 'virat']\n"
     ]
    }
   ],
   "source": [
    "print(team)"
   ]
  },
  {
   "cell_type": "code",
   "execution_count": 3,
   "metadata": {},
   "outputs": [],
   "source": [
    "team.append('sanket')"
   ]
  },
  {
   "cell_type": "code",
   "execution_count": 4,
   "metadata": {},
   "outputs": [
    {
     "name": "stdout",
     "output_type": "stream",
     "text": [
      "['vinod', 'shreyas', 'rahul', 'vijay', 'mahesh', 'arjun', 'virat', 'sanket']\n"
     ]
    }
   ],
   "source": [
    "print(team)"
   ]
  },
  {
   "cell_type": "code",
   "execution_count": 5,
   "metadata": {},
   "outputs": [
    {
     "name": "stdout",
     "output_type": "stream",
     "text": [
      "Congratulation Vinod you have been selected for tomorrow's Match\n",
      "Congratulation Shreyas you have been selected for tomorrow's Match\n",
      "Congratulation Rahul you have been selected for tomorrow's Match\n",
      "Congratulation Vijay you have been selected for tomorrow's Match\n",
      "Congratulation Mahesh you have been selected for tomorrow's Match\n",
      "Congratulation Arjun you have been selected for tomorrow's Match\n",
      "Congratulation Virat you have been selected for tomorrow's Match\n",
      "Congratulation Sanket you have been selected for tomorrow's Match\n"
     ]
    }
   ],
   "source": [
    "for x in team:\n",
    "    print(f\"Congratulation {x.title()} you have been selected for tomorrow's Match\")"
   ]
  },
  {
   "cell_type": "code",
   "execution_count": 8,
   "metadata": {},
   "outputs": [
    {
     "name": "stdout",
     "output_type": "stream",
     "text": [
      "Congratulation Vinod you have been selected for tomorrow's Match.\n",
      "\n",
      "Congratulation Shreyas you have been selected for tomorrow's Match.\n",
      "\n",
      "Congratulation Rahul you have been selected for tomorrow's Match.\n",
      "\n",
      "Congratulation Vijay you have been selected for tomorrow's Match.\n",
      "\n",
      "Congratulation Mahesh you have been selected for tomorrow's Match.\n",
      "\n",
      "Congratulation Arjun you have been selected for tomorrow's Match.\n",
      "\n",
      "Congratulation Virat you have been selected for tomorrow's Match.\n",
      "\n",
      "Congratulation Sanket you have been selected for tomorrow's Match.\n",
      "\n"
     ]
    }
   ],
   "source": [
    "for x in team:\n",
    "    print(f\"Congratulation {x.title()} you have been selected for tomorrow's Match.\\n\")# using \\n for clarity"
   ]
  },
  {
   "cell_type": "code",
   "execution_count": 9,
   "metadata": {},
   "outputs": [
    {
     "name": "stdout",
     "output_type": "stream",
     "text": [
      "Congratulation Vinod you have been selected for tomorrow's Match.\n",
      "Please be ready for the challange.\n",
      "\n",
      "Congratulation Shreyas you have been selected for tomorrow's Match.\n",
      "Please be ready for the challange.\n",
      "\n",
      "Congratulation Rahul you have been selected for tomorrow's Match.\n",
      "Please be ready for the challange.\n",
      "\n",
      "Congratulation Vijay you have been selected for tomorrow's Match.\n",
      "Please be ready for the challange.\n",
      "\n",
      "Congratulation Mahesh you have been selected for tomorrow's Match.\n",
      "Please be ready for the challange.\n",
      "\n",
      "Congratulation Arjun you have been selected for tomorrow's Match.\n",
      "Please be ready for the challange.\n",
      "\n",
      "Congratulation Virat you have been selected for tomorrow's Match.\n",
      "Please be ready for the challange.\n",
      "\n",
      "Congratulation Sanket you have been selected for tomorrow's Match.\n",
      "Please be ready for the challange.\n",
      "\n"
     ]
    }
   ],
   "source": [
    "for x in team:\n",
    "    print(f\"Congratulation {x.title()} you have been selected for tomorrow's Match.\")\n",
    "    print('Please be ready for the challange.\\n')\n",
    "    "
   ]
  },
  {
   "cell_type": "code",
   "execution_count": null,
   "metadata": {},
   "outputs": [],
   "source": []
  },
  {
   "cell_type": "code",
   "execution_count": null,
   "metadata": {},
   "outputs": [],
   "source": []
  },
  {
   "cell_type": "code",
   "execution_count": null,
   "metadata": {},
   "outputs": [],
   "source": []
  },
  {
   "cell_type": "code",
   "execution_count": null,
   "metadata": {},
   "outputs": [],
   "source": []
  },
  {
   "cell_type": "code",
   "execution_count": null,
   "metadata": {},
   "outputs": [],
   "source": []
  }
 ],
 "metadata": {
  "kernelspec": {
   "display_name": "Python 3",
   "language": "python",
   "name": "python3"
  },
  "language_info": {
   "codemirror_mode": {
    "name": "ipython",
    "version": 3
   },
   "file_extension": ".py",
   "mimetype": "text/x-python",
   "name": "python",
   "nbconvert_exporter": "python",
   "pygments_lexer": "ipython3",
   "version": "3.8.3"
  }
 },
 "nbformat": 4,
 "nbformat_minor": 4
}
